{
 "cells": [
  {
   "cell_type": "code",
   "execution_count": null,
   "id": "22da4f37",
   "metadata": {
    "scrolled": true
   },
   "outputs": [],
   "source": [
    "! pip3 install nltk"
   ]
  },
  {
   "cell_type": "code",
   "execution_count": null,
   "id": "e46f7bf4",
   "metadata": {},
   "outputs": [],
   "source": [
    "# Libraries used\n",
    "import pandas as pd\n",
    "import random\n",
    "import re\n",
    "import nltk\n",
    "nltk.download('punkt')\n",
    "from nltk import word_tokenize"
   ]
  },
  {
   "cell_type": "code",
   "execution_count": null,
   "id": "eb04a9bc",
   "metadata": {},
   "outputs": [],
   "source": [
    "import os\n",
    "print(os.getcwd())"
   ]
  },
  {
   "cell_type": "code",
   "execution_count": null,
   "id": "5f90d67d",
   "metadata": {
    "scrolled": true
   },
   "outputs": [],
   "source": [
    "df = pd.read_csv(\"Data/archive/TA_restaurants_curated.csv\")\n",
    "df.head()"
   ]
  },
  {
   "cell_type": "code",
   "execution_count": null,
   "id": "fb961c71",
   "metadata": {},
   "outputs": [],
   "source": [
    "df.shape"
   ]
  },
  {
   "cell_type": "code",
   "execution_count": null,
   "id": "e1ffca4b",
   "metadata": {
    "scrolled": true
   },
   "outputs": [],
   "source": [
    "df.dtypes"
   ]
  },
  {
   "cell_type": "code",
   "execution_count": null,
   "id": "ae5b4d60",
   "metadata": {},
   "outputs": [],
   "source": [
    "df.isnull().sum()"
   ]
  },
  {
   "cell_type": "code",
   "execution_count": null,
   "id": "1dbfba7e",
   "metadata": {
    "scrolled": true
   },
   "outputs": [],
   "source": [
    "# Cleaning the reviews\n",
    "def clean_text(text):\n",
    "  #print(text)  \n",
    "  text = text.lower()\n",
    "  text = re.sub(\"[^a-zA-Z\\'\\-]\", \" \", text) \n",
    "  return \" \".join(word_tokenize(text)[:256])\n",
    "\n",
    "df['Reviews'] = df['Reviews'].astype(str)\n",
    "df[\"clean_reviews\"] = df.Reviews.apply(clean_text)\n",
    "df.head()"
   ]
  },
  {
   "cell_type": "code",
   "execution_count": null,
   "id": "6ee0fc7a",
   "metadata": {},
   "outputs": [],
   "source": [
    "# Calculating the sentiment scores\n",
    "\n",
    "from nltk.sentiment import SentimentIntensityAnalyzer\n",
    "\n",
    "sid = SentimentIntensityAnalyzer()\n",
    "df['sentiment_scores'] = df['clean_reviews'].apply(lambda x: sid.polarity_scores(x))"
   ]
  },
  {
   "cell_type": "code",
   "execution_count": null,
   "id": "f86b3366",
   "metadata": {},
   "outputs": [],
   "source": [
    "# Defining the sentiment based on the sentiment scores\n",
    "df['sentiment'] = df['sentiment_scores'].apply(lambda x: 'Positive' if x['compound'] >= 0.5 \n",
    "                                               else ('Negative' if x['compound'] <= -0.5 \n",
    "                                               else 'Neutral'))"
   ]
  },
  {
   "cell_type": "code",
   "execution_count": null,
   "id": "de605581",
   "metadata": {},
   "outputs": [],
   "source": [
    "df.head()"
   ]
  },
  {
   "cell_type": "code",
   "execution_count": null,
   "id": "0503f842",
   "metadata": {},
   "outputs": [],
   "source": [
    "df['sentiment'].value_counts()"
   ]
  },
  {
   "cell_type": "code",
   "execution_count": null,
   "id": "6d9cf1aa",
   "metadata": {
    "scrolled": true
   },
   "outputs": [],
   "source": [
    "# Building new dataframe to separate the cusine styles\n",
    "\n",
    "cusine_df = df[['Name', 'Cuisine Style','ID_TA']]\n",
    "print(len(cusine_df))\n",
    "cusine_df.head()"
   ]
  },
  {
   "cell_type": "code",
   "execution_count": null,
   "id": "093792e3",
   "metadata": {
    "scrolled": true
   },
   "outputs": [],
   "source": [
    "cusine_df.dtypes"
   ]
  },
  {
   "cell_type": "code",
   "execution_count": null,
   "id": "a802fb2b",
   "metadata": {
    "scrolled": false
   },
   "outputs": [],
   "source": [
    "cusine = cusine_df.dropna()\n",
    "cusine.isnull().sum()"
   ]
  },
  {
   "cell_type": "code",
   "execution_count": null,
   "id": "2e2685f2",
   "metadata": {
    "scrolled": true
   },
   "outputs": [],
   "source": [
    "cusine['Cuisine Style'] = cusine['Cuisine Style'].astype(str)\n",
    "cusine['Cuisine Style'] = cusine['Cuisine Style'].apply(lambda x: eval(x))\n",
    "cusine = cusine.explode('Cuisine Style')\n",
    "len(cusine)"
   ]
  },
  {
   "cell_type": "code",
   "execution_count": null,
   "id": "b88a2142",
   "metadata": {},
   "outputs": [],
   "source": [
    "cusine.head()"
   ]
  },
  {
   "cell_type": "code",
   "execution_count": null,
   "id": "e996bfc8",
   "metadata": {},
   "outputs": [],
   "source": [
    "cusine.to_csv(\"C:/Users/nicyj/becode/Restaurant/Data/archive/cuisine_split.csv\")"
   ]
  },
  {
   "cell_type": "code",
   "execution_count": null,
   "id": "3cfe2e31",
   "metadata": {},
   "outputs": [],
   "source": [
    "df.to_csv(\"C:/Users/nicyj/becode/Restaurant/Data/archive/TA_restaurants_processed.csv\")"
   ]
  },
  {
   "cell_type": "code",
   "execution_count": null,
   "id": "bf9c7fb7",
   "metadata": {},
   "outputs": [],
   "source": []
  }
 ],
 "metadata": {
  "kernelspec": {
   "display_name": "Python 3 (ipykernel)",
   "language": "python",
   "name": "python3"
  },
  "language_info": {
   "codemirror_mode": {
    "name": "ipython",
    "version": 3
   },
   "file_extension": ".py",
   "mimetype": "text/x-python",
   "name": "python",
   "nbconvert_exporter": "python",
   "pygments_lexer": "ipython3",
   "version": "3.11.0"
  }
 },
 "nbformat": 4,
 "nbformat_minor": 5
}
